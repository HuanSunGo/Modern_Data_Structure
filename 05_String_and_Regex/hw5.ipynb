{
 "cells": [
  {
   "cell_type": "markdown",
   "id": "d1c75541",
   "metadata": {},
   "source": [
    "### Working with Strings and Regex"
   ]
  },
  {
   "cell_type": "markdown",
   "id": "b5bcfd96",
   "metadata": {},
   "source": [
    "The file `emergency.csv` contains a random sample of 10,000 narratives of injuries treated in U.S. emergency departments. We will try to extract some structured data from these narratives.\n",
    "\n",
    "**a) Length of Narratives**<br>\n",
    "_Read in the data. Find and display the longest and shortest description._<br>"
   ]
  },
  {
   "cell_type": "code",
   "execution_count": 1,
   "id": "07efa348",
   "metadata": {},
   "outputs": [],
   "source": [
    "import pandas as pd\n",
    "import numpy as np"
   ]
  },
  {
   "cell_type": "code",
   "execution_count": 2,
   "id": "8f8c6224",
   "metadata": {},
   "outputs": [
    {
     "data": {
      "text/html": [
       "<div>\n",
       "<style scoped>\n",
       "    .dataframe tbody tr th:only-of-type {\n",
       "        vertical-align: middle;\n",
       "    }\n",
       "\n",
       "    .dataframe tbody tr th {\n",
       "        vertical-align: top;\n",
       "    }\n",
       "\n",
       "    .dataframe thead th {\n",
       "        text-align: right;\n",
       "    }\n",
       "</style>\n",
       "<table border=\"1\" class=\"dataframe\">\n",
       "  <thead>\n",
       "    <tr style=\"text-align: right;\">\n",
       "      <th></th>\n",
       "      <th>narratives</th>\n",
       "    </tr>\n",
       "  </thead>\n",
       "  <tbody>\n",
       "    <tr>\n",
       "      <th>0</th>\n",
       "      <td>10 MO F FELL OUT OF SHOPPING CART;DX FRACTURED...</td>\n",
       "    </tr>\n",
       "    <tr>\n",
       "      <th>1</th>\n",
       "      <td>75YOF WITH LAC TO FINGER FROM METAL CAN</td>\n",
       "    </tr>\n",
       "    <tr>\n",
       "      <th>2</th>\n",
       "      <td>8YOF FRACTURED FINGER FELL OFF HER BIKE</td>\n",
       "    </tr>\n",
       "    <tr>\n",
       "      <th>3</th>\n",
       "      <td>9 YOM TACKLED DURING FOOTBALL PRACTICE.  DX: C...</td>\n",
       "    </tr>\n",
       "    <tr>\n",
       "      <th>4</th>\n",
       "      <td>PT WAS HIT ON RT SIDE WHILE PLAYING FOOTBALL D...</td>\n",
       "    </tr>\n",
       "  </tbody>\n",
       "</table>\n",
       "</div>"
      ],
      "text/plain": [
       "                                          narratives\n",
       "0  10 MO F FELL OUT OF SHOPPING CART;DX FRACTURED...\n",
       "1           75YOF WITH LAC TO FINGER FROM METAL CAN \n",
       "2           8YOF FRACTURED FINGER FELL OFF HER BIKE \n",
       "3  9 YOM TACKLED DURING FOOTBALL PRACTICE.  DX: C...\n",
       "4  PT WAS HIT ON RT SIDE WHILE PLAYING FOOTBALL D..."
      ]
     },
     "execution_count": 2,
     "metadata": {},
     "output_type": "execute_result"
    }
   ],
   "source": [
    "# Read in the data and record row as a data row and not a header row.\n",
    "df=pd.read_csv('emergency.csv',header = None,names=['narratives'])\n",
    "df.head()"
   ]
  },
  {
   "cell_type": "code",
   "execution_count": 3,
   "id": "94b10291",
   "metadata": {},
   "outputs": [
    {
     "data": {
      "text/plain": [
       "(10000, 1)"
      ]
     },
     "execution_count": 3,
     "metadata": {},
     "output_type": "execute_result"
    }
   ],
   "source": [
    "# Now we get the ideal shape of df with the 10,000 rows.\n",
    "df.shape"
   ]
  },
  {
   "cell_type": "code",
   "execution_count": 4,
   "id": "2d4c1d7d",
   "metadata": {},
   "outputs": [
    {
     "data": {
      "text/html": [
       "<div>\n",
       "<style scoped>\n",
       "    .dataframe tbody tr th:only-of-type {\n",
       "        vertical-align: middle;\n",
       "    }\n",
       "\n",
       "    .dataframe tbody tr th {\n",
       "        vertical-align: top;\n",
       "    }\n",
       "\n",
       "    .dataframe thead th {\n",
       "        text-align: right;\n",
       "    }\n",
       "</style>\n",
       "<table border=\"1\" class=\"dataframe\">\n",
       "  <thead>\n",
       "    <tr style=\"text-align: right;\">\n",
       "      <th></th>\n",
       "      <th>narratives</th>\n",
       "      <th>length</th>\n",
       "      <th>num_words</th>\n",
       "    </tr>\n",
       "  </thead>\n",
       "  <tbody>\n",
       "    <tr>\n",
       "      <th>0</th>\n",
       "      <td>10 MO F FELL OUT OF SHOPPING CART;DX FRACTURED...</td>\n",
       "      <td>53</td>\n",
       "      <td>10</td>\n",
       "    </tr>\n",
       "    <tr>\n",
       "      <th>1</th>\n",
       "      <td>75YOF WITH LAC TO FINGER FROM METAL CAN</td>\n",
       "      <td>40</td>\n",
       "      <td>8</td>\n",
       "    </tr>\n",
       "    <tr>\n",
       "      <th>2</th>\n",
       "      <td>8YOF FRACTURED FINGER FELL OFF HER BIKE</td>\n",
       "      <td>40</td>\n",
       "      <td>7</td>\n",
       "    </tr>\n",
       "    <tr>\n",
       "      <th>3</th>\n",
       "      <td>9 YOM TACKLED DURING FOOTBALL PRACTICE.  DX: C...</td>\n",
       "      <td>57</td>\n",
       "      <td>8</td>\n",
       "    </tr>\n",
       "    <tr>\n",
       "      <th>4</th>\n",
       "      <td>PT WAS HIT ON RT SIDE WHILE PLAYING FOOTBALL D...</td>\n",
       "      <td>52</td>\n",
       "      <td>11</td>\n",
       "    </tr>\n",
       "  </tbody>\n",
       "</table>\n",
       "</div>"
      ],
      "text/plain": [
       "                                          narratives  length  num_words\n",
       "0  10 MO F FELL OUT OF SHOPPING CART;DX FRACTURED...      53         10\n",
       "1           75YOF WITH LAC TO FINGER FROM METAL CAN       40          8\n",
       "2           8YOF FRACTURED FINGER FELL OFF HER BIKE       40          7\n",
       "3  9 YOM TACKLED DURING FOOTBALL PRACTICE.  DX: C...      57          8\n",
       "4  PT WAS HIT ON RT SIDE WHILE PLAYING FOOTBALL D...      52         11"
      ]
     },
     "execution_count": 4,
     "metadata": {},
     "output_type": "execute_result"
    }
   ],
   "source": [
    "# Create a column called \"length\" which shows the length of characters in each line of narrative. \n",
    "df['length']=df['narratives'].apply(lambda t: len(t))\n",
    "\n",
    "# Create a column called \"num_words\" which shows the number of words in each narrative.\n",
    "df['num_words']=df['narratives'].apply(lambda t : len(str(t).split())) \n",
    "\n",
    "df.head()"
   ]
  },
  {
   "cell_type": "code",
   "execution_count": 5,
   "id": "254a2e6d",
   "metadata": {},
   "outputs": [
    {
     "data": {
      "text/html": [
       "<div>\n",
       "<style scoped>\n",
       "    .dataframe tbody tr th:only-of-type {\n",
       "        vertical-align: middle;\n",
       "    }\n",
       "\n",
       "    .dataframe tbody tr th {\n",
       "        vertical-align: top;\n",
       "    }\n",
       "\n",
       "    .dataframe thead th {\n",
       "        text-align: right;\n",
       "    }\n",
       "</style>\n",
       "<table border=\"1\" class=\"dataframe\">\n",
       "  <thead>\n",
       "    <tr style=\"text-align: right;\">\n",
       "      <th></th>\n",
       "      <th>narratives</th>\n",
       "      <th>length</th>\n",
       "      <th>num_words</th>\n",
       "    </tr>\n",
       "  </thead>\n",
       "  <tbody>\n",
       "    <tr>\n",
       "      <th>5811</th>\n",
       "      <td>DX SYNCOPE/PROLONGED QT/CHEST PN: 49YOF COMPET...</td>\n",
       "      <td>143</td>\n",
       "      <td>22</td>\n",
       "    </tr>\n",
       "    <tr>\n",
       "      <th>511</th>\n",
       "      <td>19MOWF  PARENTS HOLDING PT.  DAD STATES SHE WA...</td>\n",
       "      <td>143</td>\n",
       "      <td>28</td>\n",
       "    </tr>\n",
       "    <tr>\n",
       "      <th>4322</th>\n",
       "      <td>AT  HOUSE- FELL ONTO BACK OF HIS HEAD, WHILE  ...</td>\n",
       "      <td>143</td>\n",
       "      <td>25</td>\n",
       "    </tr>\n",
       "    <tr>\n",
       "      <th>6493</th>\n",
       "      <td>21MOF IN LIVING ROOM,FOUND W/BURN THUMB,OTTOMA...</td>\n",
       "      <td>143</td>\n",
       "      <td>24</td>\n",
       "    </tr>\n",
       "    <tr>\n",
       "      <th>4791</th>\n",
       "      <td>79 YO F, C/O RT SHOULDER, FACIAL PAIN, WAS WAL...</td>\n",
       "      <td>143</td>\n",
       "      <td>24</td>\n",
       "    </tr>\n",
       "  </tbody>\n",
       "</table>\n",
       "</div>"
      ],
      "text/plain": [
       "                                             narratives  length  num_words\n",
       "5811  DX SYNCOPE/PROLONGED QT/CHEST PN: 49YOF COMPET...     143         22\n",
       "511   19MOWF  PARENTS HOLDING PT.  DAD STATES SHE WA...     143         28\n",
       "4322  AT  HOUSE- FELL ONTO BACK OF HIS HEAD, WHILE  ...     143         25\n",
       "6493  21MOF IN LIVING ROOM,FOUND W/BURN THUMB,OTTOMA...     143         24\n",
       "4791  79 YO F, C/O RT SHOULDER, FACIAL PAIN, WAS WAL...     143         24"
      ]
     },
     "execution_count": 5,
     "metadata": {},
     "output_type": "execute_result"
    }
   ],
   "source": [
    "# Sort the order by the \"length\", find the longest description.\n",
    "df.sort_values(by='length',ascending=False).head()"
   ]
  },
  {
   "cell_type": "code",
   "execution_count": 6,
   "id": "4a9fdf38",
   "metadata": {},
   "outputs": [
    {
     "data": {
      "text/html": [
       "<div>\n",
       "<style scoped>\n",
       "    .dataframe tbody tr th:only-of-type {\n",
       "        vertical-align: middle;\n",
       "    }\n",
       "\n",
       "    .dataframe tbody tr th {\n",
       "        vertical-align: top;\n",
       "    }\n",
       "\n",
       "    .dataframe thead th {\n",
       "        text-align: right;\n",
       "    }\n",
       "</style>\n",
       "<table border=\"1\" class=\"dataframe\">\n",
       "  <thead>\n",
       "    <tr style=\"text-align: right;\">\n",
       "      <th></th>\n",
       "      <th>narratives</th>\n",
       "      <th>length</th>\n",
       "      <th>num_words</th>\n",
       "    </tr>\n",
       "  </thead>\n",
       "  <tbody>\n",
       "    <tr>\n",
       "      <th>109</th>\n",
       "      <td>40YOM-C/O FOOT/HEEL PAIN RUNNIJNG BACKWARDS FE...</td>\n",
       "      <td>143</td>\n",
       "      <td>22</td>\n",
       "    </tr>\n",
       "    <tr>\n",
       "      <th>511</th>\n",
       "      <td>19MOWF  PARENTS HOLDING PT.  DAD STATES SHE WA...</td>\n",
       "      <td>143</td>\n",
       "      <td>28</td>\n",
       "    </tr>\n",
       "    <tr>\n",
       "      <th>630</th>\n",
       "      <td>44YOF  PT HAVING SEVERE R ARM PAIN THAT IS RAD...</td>\n",
       "      <td>143</td>\n",
       "      <td>25</td>\n",
       "    </tr>\n",
       "    <tr>\n",
       "      <th>920</th>\n",
       "      <td>57 YO F WAS POURING KEROSENE OVER AN OPEN FLAM...</td>\n",
       "      <td>143</td>\n",
       "      <td>29</td>\n",
       "    </tr>\n",
       "    <tr>\n",
       "      <th>1111</th>\n",
       "      <td>13YOM DID OUTDOOR WORKOUT X1 1/2 HRS, DEVELOEP...</td>\n",
       "      <td>143</td>\n",
       "      <td>21</td>\n",
       "    </tr>\n",
       "    <tr>\n",
       "      <th>...</th>\n",
       "      <td>...</td>\n",
       "      <td>...</td>\n",
       "      <td>...</td>\n",
       "    </tr>\n",
       "    <tr>\n",
       "      <th>9370</th>\n",
       "      <td>20 YO M, RUNNING FROM POLICE AFTER AN ALLEGED ...</td>\n",
       "      <td>143</td>\n",
       "      <td>26</td>\n",
       "    </tr>\n",
       "    <tr>\n",
       "      <th>9666</th>\n",
       "      <td>22YOM WAS LIGHTING PROPANE PIZZA OVEN ON FRI. ...</td>\n",
       "      <td>143</td>\n",
       "      <td>26</td>\n",
       "    </tr>\n",
       "    <tr>\n",
       "      <th>9670</th>\n",
       "      <td>45YOWM  TONIGHT PT WAS TRYING TO MOVE HIS FATH...</td>\n",
       "      <td>143</td>\n",
       "      <td>25</td>\n",
       "    </tr>\n",
       "    <tr>\n",
       "      <th>9749</th>\n",
       "      <td>PT.INJ.NOSE,HAND,WRIST,ELBOW WHEN RIDING BIKE ...</td>\n",
       "      <td>143</td>\n",
       "      <td>19</td>\n",
       "    </tr>\n",
       "    <tr>\n",
       "      <th>9853</th>\n",
       "      <td>15YF ON BUS TO SOCCER GAME&amp;NOTICED \"FUNNY SMEL...</td>\n",
       "      <td>143</td>\n",
       "      <td>21</td>\n",
       "    </tr>\n",
       "  </tbody>\n",
       "</table>\n",
       "<p>66 rows × 3 columns</p>\n",
       "</div>"
      ],
      "text/plain": [
       "                                             narratives  length  num_words\n",
       "109   40YOM-C/O FOOT/HEEL PAIN RUNNIJNG BACKWARDS FE...     143         22\n",
       "511   19MOWF  PARENTS HOLDING PT.  DAD STATES SHE WA...     143         28\n",
       "630   44YOF  PT HAVING SEVERE R ARM PAIN THAT IS RAD...     143         25\n",
       "920   57 YO F WAS POURING KEROSENE OVER AN OPEN FLAM...     143         29\n",
       "1111  13YOM DID OUTDOOR WORKOUT X1 1/2 HRS, DEVELOEP...     143         21\n",
       "...                                                 ...     ...        ...\n",
       "9370  20 YO M, RUNNING FROM POLICE AFTER AN ALLEGED ...     143         26\n",
       "9666  22YOM WAS LIGHTING PROPANE PIZZA OVEN ON FRI. ...     143         26\n",
       "9670  45YOWM  TONIGHT PT WAS TRYING TO MOVE HIS FATH...     143         25\n",
       "9749  PT.INJ.NOSE,HAND,WRIST,ELBOW WHEN RIDING BIKE ...     143         19\n",
       "9853  15YF ON BUS TO SOCCER GAME&NOTICED \"FUNNY SMEL...     143         21\n",
       "\n",
       "[66 rows x 3 columns]"
      ]
     },
     "execution_count": 6,
     "metadata": {},
     "output_type": "execute_result"
    }
   ],
   "source": [
    "# Select and display the description with the longest description.\n",
    "df[df['length']==143]"
   ]
  },
  {
   "cell_type": "code",
   "execution_count": 7,
   "id": "46be5ac7",
   "metadata": {},
   "outputs": [
    {
     "data": {
      "text/html": [
       "<div>\n",
       "<style scoped>\n",
       "    .dataframe tbody tr th:only-of-type {\n",
       "        vertical-align: middle;\n",
       "    }\n",
       "\n",
       "    .dataframe tbody tr th {\n",
       "        vertical-align: top;\n",
       "    }\n",
       "\n",
       "    .dataframe thead th {\n",
       "        text-align: right;\n",
       "    }\n",
       "</style>\n",
       "<table border=\"1\" class=\"dataframe\">\n",
       "  <thead>\n",
       "    <tr style=\"text-align: right;\">\n",
       "      <th></th>\n",
       "      <th>narratives</th>\n",
       "      <th>length</th>\n",
       "      <th>num_words</th>\n",
       "    </tr>\n",
       "  </thead>\n",
       "  <tbody>\n",
       "    <tr>\n",
       "      <th>7731</th>\n",
       "      <td>INGESTION OF ***</td>\n",
       "      <td>17</td>\n",
       "      <td>3</td>\n",
       "    </tr>\n",
       "    <tr>\n",
       "      <th>7127</th>\n",
       "      <td>ABR HIP ON FLOOR</td>\n",
       "      <td>17</td>\n",
       "      <td>4</td>\n",
       "    </tr>\n",
       "    <tr>\n",
       "      <th>4357</th>\n",
       "      <td>FX TIBIA- FELL BED</td>\n",
       "      <td>19</td>\n",
       "      <td>4</td>\n",
       "    </tr>\n",
       "    <tr>\n",
       "      <th>5365</th>\n",
       "      <td>FAN FALL ON PT. HI</td>\n",
       "      <td>19</td>\n",
       "      <td>5</td>\n",
       "    </tr>\n",
       "    <tr>\n",
       "      <th>5342</th>\n",
       "      <td>H'TMA HEAD ON SINK</td>\n",
       "      <td>19</td>\n",
       "      <td>4</td>\n",
       "    </tr>\n",
       "  </tbody>\n",
       "</table>\n",
       "</div>"
      ],
      "text/plain": [
       "               narratives  length  num_words\n",
       "7731    INGESTION OF ***       17          3\n",
       "7127    ABR HIP ON FLOOR       17          4\n",
       "4357  FX TIBIA- FELL BED       19          4\n",
       "5365  FAN FALL ON PT. HI       19          5\n",
       "5342  H'TMA HEAD ON SINK       19          4"
      ]
     },
     "execution_count": 7,
     "metadata": {},
     "output_type": "execute_result"
    }
   ],
   "source": [
    "# Sort the order by the \"length\", find the shortest description.\n",
    "df.sort_values(by='length',ascending=True).head()"
   ]
  },
  {
   "cell_type": "code",
   "execution_count": 8,
   "id": "4c9a56c1",
   "metadata": {},
   "outputs": [
    {
     "data": {
      "text/html": [
       "<div>\n",
       "<style scoped>\n",
       "    .dataframe tbody tr th:only-of-type {\n",
       "        vertical-align: middle;\n",
       "    }\n",
       "\n",
       "    .dataframe tbody tr th {\n",
       "        vertical-align: top;\n",
       "    }\n",
       "\n",
       "    .dataframe thead th {\n",
       "        text-align: right;\n",
       "    }\n",
       "</style>\n",
       "<table border=\"1\" class=\"dataframe\">\n",
       "  <thead>\n",
       "    <tr style=\"text-align: right;\">\n",
       "      <th></th>\n",
       "      <th>narratives</th>\n",
       "      <th>length</th>\n",
       "      <th>num_words</th>\n",
       "    </tr>\n",
       "  </thead>\n",
       "  <tbody>\n",
       "    <tr>\n",
       "      <th>7127</th>\n",
       "      <td>ABR HIP ON FLOOR</td>\n",
       "      <td>17</td>\n",
       "      <td>4</td>\n",
       "    </tr>\n",
       "    <tr>\n",
       "      <th>7731</th>\n",
       "      <td>INGESTION OF ***</td>\n",
       "      <td>17</td>\n",
       "      <td>3</td>\n",
       "    </tr>\n",
       "  </tbody>\n",
       "</table>\n",
       "</div>"
      ],
      "text/plain": [
       "             narratives  length  num_words\n",
       "7127  ABR HIP ON FLOOR       17          4\n",
       "7731  INGESTION OF ***       17          3"
      ]
     },
     "execution_count": 8,
     "metadata": {},
     "output_type": "execute_result"
    }
   ],
   "source": [
    "# Select and display the description with the shortest description.\n",
    "df[df['length']==17]"
   ]
  },
  {
   "cell_type": "markdown",
   "id": "58c6665f",
   "metadata": {},
   "source": [
    "**b) Fractures**<br>\n",
    "Find all narratives related to \"fractures\". Try to include singular/plural/verb forms in your search. Also, FX is the medical abbreviation for fracture, so include that as well. How many fracture narratives can you find?<br>\n"
   ]
  },
  {
   "cell_type": "code",
   "execution_count": 9,
   "id": "dab6702f",
   "metadata": {},
   "outputs": [],
   "source": [
    "# Use a RegEx format to helps including multiple forms of the word \"Fracture\" and \"FX\" as well:\n",
    "## 'fracture', 'fractured', 'fractures', other versions with upper case as well.\n",
    "\n",
    "import re"
   ]
  },
  {
   "cell_type": "code",
   "execution_count": 10,
   "id": "f7305813",
   "metadata": {},
   "outputs": [
    {
     "data": {
      "text/plain": [
       "['10 MO F FELL OUT OF SHOPPING CART;DX FRACTURED SKULL ',\n",
       " '8YOF FRACTURED FINGER FELL OFF HER BIKE ',\n",
       " '12YOF FELL DOWN STAIRS DX: FX RADIUS',\n",
       " '77 Y MALE HAD MECHANICAL FALL DOWN STEPS CAUSING ANKLE INJ DX; ANKLE FX',\n",
       " '34YOM-FELL DOWN INDOOR STEPS @ HOME CARRYING A DOG,TRIPPED ON SOMETHING -FELL FORWARD     DX FX DISTAL TIBIA & FIBULA']"
      ]
     },
     "execution_count": 10,
     "metadata": {},
     "output_type": "execute_result"
    }
   ],
   "source": [
    "# Since the word text are all written in upper case, we can express the syntax all in upper case as well.\n",
    "fracture_related=[text for text in df['narratives'] if re.search(r'(\\bFRACTUR(E|ES|ED|ING)|\\bFX\\b)',text)]\n",
    "fracture_related[:5]"
   ]
  },
  {
   "cell_type": "code",
   "execution_count": 11,
   "id": "26936af1",
   "metadata": {},
   "outputs": [
    {
     "data": {
      "text/plain": [
       "1470"
      ]
     },
     "execution_count": 11,
     "metadata": {},
     "output_type": "execute_result"
    }
   ],
   "source": [
    "# Show the number of fracture narritives we can find.\n",
    "len(fracture_related)"
   ]
  },
  {
   "cell_type": "markdown",
   "id": "03fe52a2",
   "metadata": {},
   "source": [
    "**c) Body Parts**<br>\n",
    "Among the fracture narratives, try to identify the body parts that are fractured (Note: Don't go overboard. A selection of parts is sufficient.). Make a histogram of fractured body parts (but make sure plural and singular forms are combined.)"
   ]
  },
  {
   "cell_type": "code",
   "execution_count": 12,
   "id": "f332e2f7",
   "metadata": {},
   "outputs": [
    {
     "data": {
      "text/plain": [
       "'10 MO F FELL OUT OF SHOPPING CART;DX FRACTURED SKULL  8YOF FRACTURED FINGER FELL OFF HER BIKE  12YOF'"
      ]
     },
     "execution_count": 12,
     "metadata": {},
     "output_type": "execute_result"
    }
   ],
   "source": [
    "# Join all the narratives into one long string and extract the body parts from this long string.\n",
    "fractures=\" \".join(fracture_related)\n",
    "fractures[:100]"
   ]
  },
  {
   "cell_type": "code",
   "execution_count": 13,
   "id": "c780f299",
   "metadata": {},
   "outputs": [],
   "source": [
    "# Clean up the punctuation \n",
    "fractures=re.sub(r'[^a-zA-Z0-9]+',' ',fractures)"
   ]
  },
  {
   "cell_type": "code",
   "execution_count": 14,
   "id": "9299cc7d",
   "metadata": {},
   "outputs": [],
   "source": [
    "# Apply word tokenize from NLTK. Check the distribution of the wanted body parts.\n",
    "import nltk\n",
    "from nltk.tokenize import word_tokenize\n",
    "from nltk.probability import FreqDist"
   ]
  },
  {
   "cell_type": "code",
   "execution_count": 15,
   "id": "cb326be3",
   "metadata": {
    "scrolled": true
   },
   "outputs": [
    {
     "data": {
      "text/html": [
       "<div>\n",
       "<style scoped>\n",
       "    .dataframe tbody tr th:only-of-type {\n",
       "        vertical-align: middle;\n",
       "    }\n",
       "\n",
       "    .dataframe tbody tr th {\n",
       "        vertical-align: top;\n",
       "    }\n",
       "\n",
       "    .dataframe thead th {\n",
       "        text-align: right;\n",
       "    }\n",
       "</style>\n",
       "<table border=\"1\" class=\"dataframe\">\n",
       "  <thead>\n",
       "    <tr style=\"text-align: right;\">\n",
       "      <th></th>\n",
       "      <th>token</th>\n",
       "      <th>frequency</th>\n",
       "    </tr>\n",
       "  </thead>\n",
       "  <tbody>\n",
       "    <tr>\n",
       "      <th>19</th>\n",
       "      <td>FX</td>\n",
       "      <td>984</td>\n",
       "    </tr>\n",
       "    <tr>\n",
       "      <th>3</th>\n",
       "      <td>FELL</td>\n",
       "      <td>762</td>\n",
       "    </tr>\n",
       "    <tr>\n",
       "      <th>8</th>\n",
       "      <td>DX</td>\n",
       "      <td>750</td>\n",
       "    </tr>\n",
       "    <tr>\n",
       "      <th>38</th>\n",
       "      <td>ON</td>\n",
       "      <td>459</td>\n",
       "    </tr>\n",
       "    <tr>\n",
       "      <th>70</th>\n",
       "      <td>AND</td>\n",
       "      <td>412</td>\n",
       "    </tr>\n",
       "  </tbody>\n",
       "</table>\n",
       "</div>"
      ],
      "text/plain": [
       "   token  frequency\n",
       "19    FX        984\n",
       "3   FELL        762\n",
       "8     DX        750\n",
       "38    ON        459\n",
       "70   AND        412"
      ]
     },
     "execution_count": 15,
     "metadata": {},
     "output_type": "execute_result"
    }
   ],
   "source": [
    "# Creat a dataframe that contains the word tokenized from the long string,\n",
    "# and calculate the frequency.\n",
    "tokens=nltk.word_tokenize(str(fractures))\n",
    "fqd=FreqDist(tokens)\n",
    "df_fdist = pd.DataFrame.from_dict(fqd,orient='index')\n",
    "df_fdist.reset_index(inplace=True)\n",
    "df_fdist.rename(columns={'index':'token',0:'frequency'},inplace= True)\n",
    "df_fdist.sort_values(by='frequency',ascending=False,inplace=True)\n",
    "\n",
    "df_fdist.head()"
   ]
  },
  {
   "cell_type": "code",
   "execution_count": 16,
   "id": "bd7045c1",
   "metadata": {
    "scrolled": true
   },
   "outputs": [
    {
     "data": {
      "text/html": [
       "<div>\n",
       "<style scoped>\n",
       "    .dataframe tbody tr th:only-of-type {\n",
       "        vertical-align: middle;\n",
       "    }\n",
       "\n",
       "    .dataframe tbody tr th {\n",
       "        vertical-align: top;\n",
       "    }\n",
       "\n",
       "    .dataframe thead th {\n",
       "        text-align: right;\n",
       "    }\n",
       "</style>\n",
       "<table border=\"1\" class=\"dataframe\">\n",
       "  <thead>\n",
       "    <tr style=\"text-align: right;\">\n",
       "      <th></th>\n",
       "      <th>token</th>\n",
       "      <th>frequency</th>\n",
       "    </tr>\n",
       "  </thead>\n",
       "  <tbody>\n",
       "    <tr>\n",
       "      <th>12</th>\n",
       "      <td>FINGER</td>\n",
       "      <td>216</td>\n",
       "    </tr>\n",
       "    <tr>\n",
       "      <th>215</th>\n",
       "      <td>WRIST</td>\n",
       "      <td>186</td>\n",
       "    </tr>\n",
       "    <tr>\n",
       "      <th>29</th>\n",
       "      <td>ANKLE</td>\n",
       "      <td>174</td>\n",
       "    </tr>\n",
       "    <tr>\n",
       "      <th>149</th>\n",
       "      <td>ARM</td>\n",
       "      <td>140</td>\n",
       "    </tr>\n",
       "    <tr>\n",
       "      <th>295</th>\n",
       "      <td>FOOT</td>\n",
       "      <td>135</td>\n",
       "    </tr>\n",
       "  </tbody>\n",
       "</table>\n",
       "</div>"
      ],
      "text/plain": [
       "      token  frequency\n",
       "12   FINGER        216\n",
       "215   WRIST        186\n",
       "29    ANKLE        174\n",
       "149     ARM        140\n",
       "295    FOOT        135"
      ]
     },
     "execution_count": 16,
     "metadata": {},
     "output_type": "execute_result"
    }
   ],
   "source": [
    "# Find the relative parts that are associated with fracture.\n",
    "body_parts=df_fdist.loc[df_fdist['token'].isin(['FINGER', 'SKULL', 'ANKLE', 'RIB', 'TOE', 'WRIST', 'SPINE', 'NECK','LEG','FOOT','FEET','ARM','LUMBAR'])]\n",
    "body_parts.head()"
   ]
  },
  {
   "cell_type": "code",
   "execution_count": 17,
   "id": "85f68ac5",
   "metadata": {},
   "outputs": [
    {
     "data": {
      "text/plain": [
       "Text(0.5, 1.0, 'Distribution of Body Parts Under Fracture')"
      ]
     },
     "execution_count": 17,
     "metadata": {},
     "output_type": "execute_result"
    },
    {
     "data": {
      "image/png": "[encoded data removed]",
      "text/plain": [
       "<Figure size 432x288 with 1 Axes>"
      ]
     },
     "metadata": {
      "needs_background": "light"
     },
     "output_type": "display_data"
    }
   ],
   "source": [
    "# Draw histogram showing distribution for different body parts with most fractures.\n",
    "import matplotlib.pyplot as plt\n",
    "\n",
    "plt.bar(x=body_parts['token'],height=body_parts['frequency'])\n",
    "plt.xticks(rotation=45)\n",
    "\n",
    "plt.xlabel('Body Parts')\n",
    "plt.ylabel('Frequency')\n",
    "plt.title('Distribution of Body Parts Under Fracture')"
   ]
  },
  {
   "cell_type": "markdown",
   "id": "05ec1ba2",
   "metadata": {},
   "source": [
    "**d) Age and Gender**<br>\n",
    "Let's try to extract age and gender. In a number of narratives you may have noticed a pattern:\n",
    "\n",
    "- \"75 YOM, FELL DOWN STAIRS, FRACTURE LEG\": A 75 year old male.\n",
    "- \"21MOF FINGER SHUT IN WINDOW AT HOME;NAILBED INJURY: A 21 month-old female child.\n",
    "- \"DX:AVULSION OF SKIN-50YOF-CUT THUMB WITH SCISSORS TONIGHT-OPENING A BOX\": A 50 year old female.\n",
    "- \"LEFT ELBOW CONTUSION,RT SHIN LAC.PT WAS ICE SKATING AND FELL.\": No information about age or gender.<br>\n",
    "\n",
    "You are generally looking for a pattern with a number (age), something to indicate the units, e.g. YO or YR for years old, or MO for months old, and a character that identifies the gender. So, I suggest to think of a pattern that combines these three parts.<br>\n",
    "\n",
    "Create variables for age and gender (make sure to convert months to years when necessary). How many men and women are in the data? Provide a line graph of the number of injuries (y-axis) vs age (x-axis) disaggregated by gender."
   ]
  },
  {
   "cell_type": "code",
   "execution_count": 18,
   "id": "3f6c41cb",
   "metadata": {},
   "outputs": [],
   "source": [
    "# Create the Regex pattern about age and gender information.\n",
    "pattern=re.compile(r'(\\d{2}).?(Y|M).*?(M|F)')"
   ]
  },
  {
   "cell_type": "code",
   "execution_count": 19,
   "id": "33805aa1",
   "metadata": {},
   "outputs": [
    {
     "data": {
      "text/html": [
       "<div>\n",
       "<style scoped>\n",
       "    .dataframe tbody tr th:only-of-type {\n",
       "        vertical-align: middle;\n",
       "    }\n",
       "\n",
       "    .dataframe tbody tr th {\n",
       "        vertical-align: top;\n",
       "    }\n",
       "\n",
       "    .dataframe thead th {\n",
       "        text-align: right;\n",
       "    }\n",
       "</style>\n",
       "<table border=\"1\" class=\"dataframe\">\n",
       "  <thead>\n",
       "    <tr style=\"text-align: right;\">\n",
       "      <th></th>\n",
       "      <th>0</th>\n",
       "      <th>1</th>\n",
       "      <th>2</th>\n",
       "    </tr>\n",
       "  </thead>\n",
       "  <tbody>\n",
       "    <tr>\n",
       "      <th>0</th>\n",
       "      <td>10</td>\n",
       "      <td>M</td>\n",
       "      <td>F</td>\n",
       "    </tr>\n",
       "    <tr>\n",
       "      <th>1</th>\n",
       "      <td>75</td>\n",
       "      <td>Y</td>\n",
       "      <td>F</td>\n",
       "    </tr>\n",
       "    <tr>\n",
       "      <th>2</th>\n",
       "      <td>12</td>\n",
       "      <td>Y</td>\n",
       "      <td>F</td>\n",
       "    </tr>\n",
       "    <tr>\n",
       "      <th>3</th>\n",
       "      <td>50</td>\n",
       "      <td>Y</td>\n",
       "      <td>F</td>\n",
       "    </tr>\n",
       "    <tr>\n",
       "      <th>4</th>\n",
       "      <td>21</td>\n",
       "      <td>M</td>\n",
       "      <td>M</td>\n",
       "    </tr>\n",
       "  </tbody>\n",
       "</table>\n",
       "</div>"
      ],
      "text/plain": [
       "    0  1  2\n",
       "0  10  M  F\n",
       "1  75  Y  F\n",
       "2  12  Y  F\n",
       "3  50  Y  F\n",
       "4  21  M  M"
      ]
     },
     "execution_count": 19,
     "metadata": {},
     "output_type": "execute_result"
    }
   ],
   "source": [
    "# Use regex group to get the information about age and gender.\n",
    "age_gender = [match.group(1,2,3) for match in [re.search(pattern, text) for text in df['narratives']] if match]\n",
    "info_df = pd.DataFrame(age_gender)\n",
    "info_df.head()"
   ]
  },
  {
   "cell_type": "code",
   "execution_count": 20,
   "id": "db9defab",
   "metadata": {},
   "outputs": [],
   "source": [
    "# Add the name of columns and change the type of it.\n",
    "info_df.rename(columns={0:'raw',1:'type',2:'gender'},inplace=True)\n",
    "info_df['raw']=info_df['raw'].astype(float)\n",
    "info_df[['type','gender']]=info_df[['type','gender']].astype(str)"
   ]
  },
  {
   "cell_type": "code",
   "execution_count": 21,
   "id": "09079cd0",
   "metadata": {},
   "outputs": [
    {
     "data": {
      "text/html": [
       "<div>\n",
       "<style scoped>\n",
       "    .dataframe tbody tr th:only-of-type {\n",
       "        vertical-align: middle;\n",
       "    }\n",
       "\n",
       "    .dataframe tbody tr th {\n",
       "        vertical-align: top;\n",
       "    }\n",
       "\n",
       "    .dataframe thead th {\n",
       "        text-align: right;\n",
       "    }\n",
       "</style>\n",
       "<table border=\"1\" class=\"dataframe\">\n",
       "  <thead>\n",
       "    <tr style=\"text-align: right;\">\n",
       "      <th></th>\n",
       "      <th>raw</th>\n",
       "      <th>type</th>\n",
       "      <th>gender</th>\n",
       "      <th>year</th>\n",
       "    </tr>\n",
       "  </thead>\n",
       "  <tbody>\n",
       "    <tr>\n",
       "      <th>0</th>\n",
       "      <td>10.0</td>\n",
       "      <td>M</td>\n",
       "      <td>F</td>\n",
       "      <td>0.83</td>\n",
       "    </tr>\n",
       "    <tr>\n",
       "      <th>1</th>\n",
       "      <td>75.0</td>\n",
       "      <td>Y</td>\n",
       "      <td>F</td>\n",
       "      <td>75.00</td>\n",
       "    </tr>\n",
       "    <tr>\n",
       "      <th>2</th>\n",
       "      <td>12.0</td>\n",
       "      <td>Y</td>\n",
       "      <td>F</td>\n",
       "      <td>12.00</td>\n",
       "    </tr>\n",
       "    <tr>\n",
       "      <th>3</th>\n",
       "      <td>50.0</td>\n",
       "      <td>Y</td>\n",
       "      <td>F</td>\n",
       "      <td>50.00</td>\n",
       "    </tr>\n",
       "    <tr>\n",
       "      <th>4</th>\n",
       "      <td>21.0</td>\n",
       "      <td>M</td>\n",
       "      <td>M</td>\n",
       "      <td>1.75</td>\n",
       "    </tr>\n",
       "  </tbody>\n",
       "</table>\n",
       "</div>"
      ],
      "text/plain": [
       "    raw type gender   year\n",
       "0  10.0    M      F   0.83\n",
       "1  75.0    Y      F  75.00\n",
       "2  12.0    Y      F  12.00\n",
       "3  50.0    Y      F  50.00\n",
       "4  21.0    M      M   1.75"
      ]
     },
     "execution_count": 21,
     "metadata": {},
     "output_type": "execute_result"
    }
   ],
   "source": [
    "# Convert age in months to years for future calculation.\n",
    "info_df[\"year\"]=[round((float(info_df.iloc[i, 0])/12),2)  if info_df.iloc[i, 1]==\"M\" else info_df.iloc[i, 0] for i in range(len(info_df[\"raw\"]))]\n",
    "info_df.head()"
   ]
  },
  {
   "cell_type": "code",
   "execution_count": 24,
   "id": "6e9462fb",
   "metadata": {},
   "outputs": [
    {
     "data": {
      "text/plain": [
       "M    3657\n",
       "F    3121\n",
       "Name: gender, dtype: int64"
      ]
     },
     "execution_count": 24,
     "metadata": {},
     "output_type": "execute_result"
    }
   ],
   "source": [
    "# Calculate the number of male and femals.\n",
    "info_df['gender'].value_counts()"
   ]
  },
  {
   "cell_type": "code",
   "execution_count": 30,
   "id": "3f9275ba",
   "metadata": {},
   "outputs": [
    {
     "data": {
      "text/html": [
       "<div>\n",
       "<style scoped>\n",
       "    .dataframe tbody tr th:only-of-type {\n",
       "        vertical-align: middle;\n",
       "    }\n",
       "\n",
       "    .dataframe tbody tr th {\n",
       "        vertical-align: top;\n",
       "    }\n",
       "\n",
       "    .dataframe thead th {\n",
       "        text-align: right;\n",
       "    }\n",
       "</style>\n",
       "<table border=\"1\" class=\"dataframe\">\n",
       "  <thead>\n",
       "    <tr style=\"text-align: right;\">\n",
       "      <th></th>\n",
       "      <th>gender</th>\n",
       "      <th>year</th>\n",
       "      <th>raw</th>\n",
       "      <th>type</th>\n",
       "    </tr>\n",
       "  </thead>\n",
       "  <tbody>\n",
       "    <tr>\n",
       "      <th>0</th>\n",
       "      <td>F</td>\n",
       "      <td>0.00</td>\n",
       "      <td>2</td>\n",
       "      <td>2</td>\n",
       "    </tr>\n",
       "    <tr>\n",
       "      <th>1</th>\n",
       "      <td>F</td>\n",
       "      <td>0.83</td>\n",
       "      <td>15</td>\n",
       "      <td>15</td>\n",
       "    </tr>\n",
       "    <tr>\n",
       "      <th>2</th>\n",
       "      <td>F</td>\n",
       "      <td>0.92</td>\n",
       "      <td>17</td>\n",
       "      <td>17</td>\n",
       "    </tr>\n",
       "    <tr>\n",
       "      <th>3</th>\n",
       "      <td>F</td>\n",
       "      <td>1.00</td>\n",
       "      <td>18</td>\n",
       "      <td>18</td>\n",
       "    </tr>\n",
       "    <tr>\n",
       "      <th>4</th>\n",
       "      <td>F</td>\n",
       "      <td>1.08</td>\n",
       "      <td>12</td>\n",
       "      <td>12</td>\n",
       "    </tr>\n",
       "    <tr>\n",
       "      <th>...</th>\n",
       "      <td>...</td>\n",
       "      <td>...</td>\n",
       "      <td>...</td>\n",
       "      <td>...</td>\n",
       "    </tr>\n",
       "    <tr>\n",
       "      <th>260</th>\n",
       "      <td>M</td>\n",
       "      <td>94.00</td>\n",
       "      <td>2</td>\n",
       "      <td>2</td>\n",
       "    </tr>\n",
       "    <tr>\n",
       "      <th>261</th>\n",
       "      <td>M</td>\n",
       "      <td>95.00</td>\n",
       "      <td>1</td>\n",
       "      <td>1</td>\n",
       "    </tr>\n",
       "    <tr>\n",
       "      <th>262</th>\n",
       "      <td>M</td>\n",
       "      <td>96.00</td>\n",
       "      <td>1</td>\n",
       "      <td>1</td>\n",
       "    </tr>\n",
       "    <tr>\n",
       "      <th>263</th>\n",
       "      <td>M</td>\n",
       "      <td>97.00</td>\n",
       "      <td>1</td>\n",
       "      <td>1</td>\n",
       "    </tr>\n",
       "    <tr>\n",
       "      <th>264</th>\n",
       "      <td>M</td>\n",
       "      <td>99.00</td>\n",
       "      <td>1</td>\n",
       "      <td>1</td>\n",
       "    </tr>\n",
       "  </tbody>\n",
       "</table>\n",
       "<p>265 rows × 4 columns</p>\n",
       "</div>"
      ],
      "text/plain": [
       "    gender   year  raw  type\n",
       "0        F   0.00    2     2\n",
       "1        F   0.83   15    15\n",
       "2        F   0.92   17    17\n",
       "3        F   1.00   18    18\n",
       "4        F   1.08   12    12\n",
       "..     ...    ...  ...   ...\n",
       "260      M  94.00    2     2\n",
       "261      M  95.00    1     1\n",
       "262      M  96.00    1     1\n",
       "263      M  97.00    1     1\n",
       "264      M  99.00    1     1\n",
       "\n",
       "[265 rows x 4 columns]"
      ]
     },
     "execution_count": 30,
     "metadata": {},
     "output_type": "execute_result"
    }
   ],
   "source": [
    "# Group the number of injuries for differet gender.\n",
    "info_vf=info_df.groupby(by=['gender','year']).count().reset_index("
   ]
  },
  {
   "cell_type": "code",
   "execution_count": 34,
   "id": "ab1f59f7",
   "metadata": {},
   "outputs": [
    {
     "data": {
      "text/plain": [
       "[Text(0.5, 1.0, 'Emergency Plot'),\n",
       " Text(0.5, 0, 'Age'),\n",
       " Text(0, 0.5, 'Numbers')]"
      ]
     },
     "execution_count": 34,
     "metadata": {},
     "output_type": "execute_result"
    },
    {
     "data": {
      "image/png": "[encoded data removed]",
      "text/plain": [
       "<Figure size 432x288 with 1 Axes>"
      ]
     },
     "metadata": {
      "needs_background": "light"
     },
     "output_type": "display_data"
    }
   ],
   "source": [
    "import seaborn as sns\n",
    "ans=sns.lineplot(x='year',y='raw',data=info_vf,hue='gender')\n",
    "ans.set(title = \"Emergency Plot\", xlabel = \"Age\", ylabel = \"Numbers\")"
   ]
  },
  {
   "cell_type": "markdown",
   "id": "5a1a9928",
   "metadata": {},
   "source": [
    "### Optional (Bonus): Regex Crossword\n",
    "  Let's have a bit of fun with some regex crossword puzzle.\n",
    "\n",
    "_**Inference:**_\n",
    "1. D or N\n",
    "2. O\n",
    "3. E or N \n",
    "4. T\n",
    "5. A or P\n",
    "6. A or C\n",
    "7. N\n",
    "8. I \n",
    "9. A or N or C\n",
    "\n",
    "_**Answer:**_\n",
    "DONTPANIC\n"
   ]
  }
 ],
 "metadata": {
  "kernelspec": {
   "display_name": "Python 3",
   "language": "python",
   "name": "python3"
  },
  "language_info": {
   "codemirror_mode": {
    "name": "ipython",
    "version": 3
   },
   "file_extension": ".py",
   "mimetype": "text/x-python",
   "name": "python",
   "nbconvert_exporter": "python",
   "pygments_lexer": "ipython3",
   "version": "3.8.8"
  }
 },
 "nbformat": 4,
 "nbformat_minor": 5
}
