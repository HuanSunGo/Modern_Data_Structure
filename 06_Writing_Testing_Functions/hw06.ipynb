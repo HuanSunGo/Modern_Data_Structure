{
 "cells": [
  {
   "cell_type": "markdown",
   "metadata": {},
   "source": [
    "## Testing\n",
    "For this exercise, we are going to use pytest to write tests for some functions.\n",
    "\n",
    "### Caesar cipher\n",
    "The Caesar cipher is one of the simplest and most widely known encryption techniques. In short, each letter is replaced by a letter some fixed number of positions down the alphabet. Apparently, Julius Caesar used it in his private correspondence.\n",
    "\n",
    "Creating the function to encipher the code is fun (so please do if you want to practice - ideally before looking at it below). But since we want to focus on testing here, I will provide the function for you:"
   ]
  },
  {
   "cell_type": "code",
   "execution_count": 1,
   "metadata": {},
   "outputs": [],
   "source": [
    "def cipher(text, shift, encrypt=True):\n",
    "    alphabet = 'abcdefghijklmnopqrstuvwxyzABCDEFGHIJKLMNOPQRSTUVWXYZ'\n",
    "    new_text = ''\n",
    "    for c in text:\n",
    "        index = alphabet.find(c)\n",
    "        if index == -1:\n",
    "            new_text += c\n",
    "        else:\n",
    "            new_index = index + shift if encrypt == True else index - shift\n",
    "            new_index %= len(alphabet)\n",
    "            new_text += alphabet[new_index:new_index+1]\n",
    "    return new_text"
   ]
  },
  {
   "cell_type": "markdown",
   "metadata": {},
   "source": [
    "### 1. Test the encrypt function\n",
    "#### a) Write a test function that checks whether the cipher function works using a single word as an example."
   ]
  },
  {
   "cell_type": "code",
   "execution_count": 2,
   "metadata": {},
   "outputs": [],
   "source": [
    "import pytest"
   ]
  },
  {
   "cell_type": "code",
   "execution_count": 3,
   "metadata": {},
   "outputs": [],
   "source": [
    "def test_cipher_single():\n",
    "    text1 = 'm'\n",
    "    expected1 = 'n'\n",
    "    actual1 = cipher(text1, 1)\n",
    "    assert actual1 == expected1"
   ]
  },
  {
   "cell_type": "markdown",
   "metadata": {},
   "source": [
    "#### b) Write a test function that checks a negative shift works (shift < 0)."
   ]
  },
  {
   "cell_type": "code",
   "execution_count": 4,
   "metadata": {},
   "outputs": [],
   "source": [
    "def test_cipher_negative():\n",
    "    text2='d'\n",
    "    expected2='c'\n",
    "    actual2=cipher(text2,-1)\n",
    "    assert actual2==expected2"
   ]
  },
  {
   "cell_type": "markdown",
   "metadata": {},
   "source": [
    "#### c) Write a test for the case when the text contains symbols which are not in the alphabet."
   ]
  },
  {
   "cell_type": "code",
   "execution_count": 5,
   "metadata": {},
   "outputs": [],
   "source": [
    "def test_cipher_symbol():\n",
    "    text3 = 'Chef*'\n",
    "    expected3 = 'Fkhi*'\n",
    "    actual3 = cipher(text3, 3)\n",
    "    assert actual3 == expected3"
   ]
  },
  {
   "cell_type": "markdown",
   "metadata": {},
   "source": [
    "#### d) Add an assertion to the original function that causes an exception when the shift parameter is set to a string (e.g. \"two\"). \n",
    "Now, add a test that checks for that exception occurring as expected when a string is passed to shift."
   ]
  },
  {
   "cell_type": "code",
   "execution_count": 6,
   "metadata": {},
   "outputs": [],
   "source": [
    "# Add the assertion to the original function.\n",
    "def cipher(text, shift, encrypt=True):\n",
    "    assert isinstance(shift, int), \"The type of shift parameter should be an integer.\"\n",
    "    alphabet = 'abcdefghijklmnopqrstuvwxyzABCDEFGHIJKLMNOPQRSTUVWXYZ'\n",
    "    new_text = ''\n",
    "    for c in text:\n",
    "        index = alphabet.find(c)\n",
    "        if index == -1:\n",
    "            new_text += c\n",
    "        else:\n",
    "            new_index = index + shift if encrypt == True else index - shift\n",
    "            new_index %= len(alphabet)\n",
    "            new_text += alphabet[new_index:new_index+1]\n",
    "    return new_text"
   ]
  },
  {
   "cell_type": "code",
   "execution_count": 7,
   "metadata": {},
   "outputs": [],
   "source": [
    "# The test that raise expected exceptions.\n",
    "def test_cipher_shift():\n",
    "    with pytest.raises(AssertionError):\n",
    "        cipher('text', 'three')"
   ]
  },
  {
   "cell_type": "markdown",
   "metadata": {},
   "source": [
    "#### e) Add the tests from 1a, 1b, 1c, and 1d to a file called test_cipher.py in your folder. \n",
    "Run all the tests from your command line using pytest (and verbosity setting -vv) and add a screen shot of the command and the output to your homework solution."
   ]
  },
  {
   "cell_type": "markdown",
   "metadata": {},
   "source": [
    "![test_cipher.png](image/test_cipher.png)"
   ]
  },
  {
   "cell_type": "markdown",
   "metadata": {},
   "source": [
    "#### f) Now, expand the test in (1a) using several examples which include a single word, lower case only, upper case only, and a sentence with spaces. \n",
    "Use a fixture for this, so that this remains a single test function."
   ]
  },
  {
   "cell_type": "code",
   "execution_count": 8,
   "metadata": {},
   "outputs": [],
   "source": [
    "@pytest.mark.parametrize(\"text, shift, expected\", [\n",
    "    ('m', 1, 'n'),\n",
    "    ('Chef', 3, 'Fkhi'),\n",
    "    ('It is a test.', 2, 'Kv ku c vguv.')\n",
    "])\n",
    "def test_cipher_loop_(text, shift, expected):\n",
    "    result = cipher(text, shift)\n",
    "    assert result == expected"
   ]
  },
  {
   "cell_type": "markdown",
   "metadata": {},
   "source": [
    "#### g) Write a simple integration-like test that relies on the fact that we can encrypt and decrypt a string using the function (using the encrypt parameter). \n",
    "That is, your test should start with a string, encrypt it, decrypt it, and then compare the result to the starting point. Set up a test that runs this for shift values from 1 to 10."
   ]
  },
  {
   "cell_type": "code",
   "execution_count": 9,
   "metadata": {},
   "outputs": [],
   "source": [
    "def test_cycle_cipher(): \n",
    "    example = 'test'\n",
    "    expected = 'test'\n",
    "    for i in range(1, 11): \n",
    "        temp = cipher(example, i, encrypt = True)\n",
    "        actual = cipher(temp, i, encrypt = False)\n",
    "    assert actual == expected"
   ]
  },
  {
   "cell_type": "markdown",
   "metadata": {},
   "source": [
    "### 2. [OPTIONAL - BONUS] Test class\n",
    "Add the test methods from 1a-1c to a test class. Now, parametrize your class, so that the same five test cases will be sent to all of the test functions in the class. [Note: I did no show this exact procedure in class but this is quite similar to the implementation in 1f].\n",
    "\n",
    "Add the test class to a file called test_cipher_class.py in your folder. Run all the tests in the test class from your command line using pytest (and verbosity setting -vv) and add a screen shot of the command and the output to your homework solution."
   ]
  },
  {
   "cell_type": "code",
   "execution_count": 10,
   "metadata": {},
   "outputs": [],
   "source": [
    "import pytest\n",
    "import pandas as pd\n",
    "\n",
    "def cipher(text, shift, encrypt=True):\n",
    "    assert isinstance(shift, int), \"The type of shift should be int.\"\n",
    "    alphabet = 'abcdefghijklmnopqrstuvwxyzABCDEFGHIJKLMNOPQRSTUVWXYZ'\n",
    "    new_text = ''\n",
    "    for c in text:\n",
    "        index = alphabet.find(c)\n",
    "        if index == -1:\n",
    "            new_text += c\n",
    "        else:\n",
    "            new_index = index + shift if encrypt == True else index - shift\n",
    "            new_index %= len(alphabet)\n",
    "            new_text += alphabet[new_index:new_index+1]\n",
    "    return new_text\n",
    "\n",
    "@pytest.mark.parametrize(\n",
    "    \"text,shift,expected\",[\n",
    "        (\"m\",1,\"n\"),\n",
    "        (\"lisa\", 1, \"mjtb\"),\n",
    "        (\"roman\", -1, \"qnlZm\"),\n",
    "        (\"Chef*\", 3, \"Fkhi*\"),])\n",
    "\n",
    "class Test:\n",
    "    def test_cipher_single(self, text, shift, expected):\n",
    "        actual = cipher(text, shift)\n",
    "        assert actual == expected\n",
    "    \n",
    "    def test_cipher_negative(self, text, shift, expected):\n",
    "        actual = cipher(text, shift)\n",
    "        assert actual == expected\n",
    "        \n",
    "    def test_cipher_symbol(self, text, shift, expected):\n",
    "        actual = cipher(text, shift)\n",
    "        assert actual == expected\n",
    "        \n"
   ]
  },
  {
   "cell_type": "markdown",
   "metadata": {},
   "source": [
    "![test_cipher.png](image/test_cipher_class.png)"
   ]
  }
 ],
 "metadata": {
  "kernelspec": {
   "display_name": "Python 3",
   "language": "python",
   "name": "python3"
  },
  "language_info": {
   "codemirror_mode": {
    "name": "ipython",
    "version": 3
   },
   "file_extension": ".py",
   "mimetype": "text/x-python",
   "name": "python",
   "nbconvert_exporter": "python",
   "pygments_lexer": "ipython3",
   "version": "3.8.8"
  }
 },
 "nbformat": 4,
 "nbformat_minor": 2
}
