{
 "cells": [
  {
   "cell_type": "markdown",
   "id": "e2cfaa11",
   "metadata": {},
   "source": [
    "## 1.Cost of the event\n",
    "#### a) Function for cost of events."
   ]
  },
  {
   "cell_type": "code",
   "execution_count": 75,
   "id": "ef5487fd",
   "metadata": {},
   "outputs": [],
   "source": [
    "def cost_of_event(num_of_people,type='private',cost=500):\n",
    "    if type=='wedding':\n",
    "        ans=float(num_of_people*cost*1.5)\n",
    "        return ans\n",
    "    else:\n",
    "        ans=float(num_of_people*cost) \n",
    "        return ans"
   ]
  },
  {
   "cell_type": "code",
   "execution_count": 76,
   "id": "18f9b5b2",
   "metadata": {},
   "outputs": [
    {
     "data": {
      "text/plain": [
       "101250.0"
      ]
     },
     "execution_count": 76,
     "metadata": {},
     "output_type": "execute_result"
    }
   ],
   "source": [
    "cost_of_event(150,'wedding',450)"
   ]
  },
  {
   "cell_type": "code",
   "execution_count": 77,
   "id": "61eeddef",
   "metadata": {},
   "outputs": [
    {
     "data": {
      "text/plain": [
       "12500.0"
      ]
     },
     "execution_count": 77,
     "metadata": {},
     "output_type": "execute_result"
    }
   ],
   "source": [
    "cost_of_event(25)"
   ]
  },
  {
   "cell_type": "markdown",
   "id": "370ba4e1",
   "metadata": {},
   "source": [
    "#### b) Include the sales tax into the function.\n",
    "##### -Private events and weedings: total cost <=$1000 are tax free.  <br> -Corporate events: sales tax always apples."
   ]
  },
  {
   "cell_type": "code",
   "execution_count": 78,
   "id": "ec3f2355",
   "metadata": {},
   "outputs": [],
   "source": [
    "def sales_tax(cost_of_event,type,tax_rate=0.1):\n",
    "    if type in('private','wedding'):\n",
    "        if cost_of_event <= 1000:\n",
    "            return 0\n",
    "        else:\n",
    "            tax=float((cost_of_event-1000)*tax_rate)\n",
    "            return tax\n",
    "    else:\n",
    "        tax=float(tax_rate*cost_of_event)\n",
    "        return tax"
   ]
  },
  {
   "cell_type": "code",
   "execution_count": 79,
   "id": "03b4d60b",
   "metadata": {},
   "outputs": [
    {
     "data": {
      "text/plain": [
       "400.0"
      ]
     },
     "execution_count": 79,
     "metadata": {},
     "output_type": "execute_result"
    }
   ],
   "source": [
    "sales_tax(5000,'private')"
   ]
  },
  {
   "cell_type": "code",
   "execution_count": 80,
   "id": "ce5fae59",
   "metadata": {},
   "outputs": [
    {
     "data": {
      "text/plain": [
       "500.0"
      ]
     },
     "execution_count": 80,
     "metadata": {},
     "output_type": "execute_result"
    }
   ],
   "source": [
    "sales_tax(5000,'corporate')"
   ]
  },
  {
   "cell_type": "markdown",
   "id": "b3b69f4a",
   "metadata": {},
   "source": [
    "#### c) Combine the previous two functions into event_calculator.\n",
    "##### -Involve the optional keyword argument and print the result to the console."
   ]
  },
  {
   "cell_type": "code",
   "execution_count": 81,
   "id": "8fce7902",
   "metadata": {},
   "outputs": [],
   "source": [
    "def event_calculator(num_of_people,**kwargs):\n",
    "    \n",
    "    #get the arguments from previous function\n",
    "    type=kwargs.get('type')\n",
    "    cost=float(kwargs.get('cost'))\n",
    "    tax_rate=float(kwargs.get('tax_rate'))\n",
    "    \n",
    "    #rename for briefness\n",
    "    cal_cost=cost_of_event(num_of_people,type,cost)\n",
    "    tax=sales_tax(cal_cost,type,tax_rate)\n",
    "    total_cost=cal_cost+tax\n",
    "    \n",
    "    print(f'Total Number of guests: {num_of_people}\\n',\n",
    "          f'Type of event: {type}\\n',\n",
    "          f'Cost per person: {cost:.2f}\\n',\n",
    "          f'---------------------------\\n',\n",
    "          f'Cost of event: {cal_cost:.2f}\\n',\n",
    "          f'Sales Tax: {tax:.2f}\\n',\n",
    "          '---------------------------\\n',\n",
    "          f'Total Cost: {total_cost:.2f}\\n')\n"
   ]
  },
  {
   "cell_type": "markdown",
   "id": "c05d4889",
   "metadata": {},
   "source": [
    "##### -Show the result of the function for a corporate event with 100 people at a cost of $75 per person and a sales tax rate of 8%."
   ]
  },
  {
   "cell_type": "code",
   "execution_count": 82,
   "id": "6c318347",
   "metadata": {},
   "outputs": [
    {
     "name": "stdout",
     "output_type": "stream",
     "text": [
      "Total Number of guests: 100\n",
      " Type of event: corporate\n",
      " Cost per person: 75.00\n",
      " ---------------------------\n",
      " Cost of event: 7500.00\n",
      " Sales Tax: 600.00\n",
      " ---------------------------\n",
      " Total Cost: 8100.00\n",
      "\n"
     ]
    }
   ],
   "source": [
    "event_calculator(100,type='corporate',cost=75,tax_rate=0.08)"
   ]
  },
  {
   "cell_type": "markdown",
   "id": "d66c3ddc",
   "metadata": {},
   "source": [
    "## 2.Error handling.\n",
    "#### a) Add assertions to warn the inappropriate input types."
   ]
  },
  {
   "cell_type": "code",
   "execution_count": 83,
   "id": "c711e213",
   "metadata": {},
   "outputs": [],
   "source": [
    "def event_calculator(num_of_people,**kwargs):\n",
    "    \n",
    "    #get the arguments from previous function\n",
    "    type=kwargs.get('type')\n",
    "    cost=kwargs.get('cost')\n",
    "    tax_rate=kwargs.get('tax_rate')\n",
    "    \n",
    "    #rename for briefness\n",
    "    cal_cost=cost_of_event(num_of_people,type,cost)\n",
    "    tax=sales_tax(cal_cost,type,tax_rate)\n",
    "    total_cost=cal_cost+tax\n",
    "    \n",
    "    #add assertions of warning and provide the description of what went wrong\n",
    "    assert cost>=0,'Cost under 0 is not possible, please check it again.'\n",
    "    assert (tax_rate>=0 and tax_rate<0.25),'The valid tax rate is between 0 to 25%, please check it again.'\n",
    "    assert type in ['wedding','private','corporate'],'The valid event type can be wedding, private, corporate, please check it again.'\n",
    "    \n",
    "    print(f'Total Number of guests: {num_of_people}\\n',\n",
    "          f'Type of event: {type}\\n',\n",
    "          f'Cost per person: {cost:.2f}\\n',\n",
    "          f'---------------------------\\n',\n",
    "          f'Cost of event: {cal_cost:.2f}\\n',\n",
    "          f'Sales Tax: {tax:.2f}\\n',\n",
    "          '---------------------------\\n',\n",
    "          f'Total Cost: {total_cost:.2f}\\n')"
   ]
  },
  {
   "cell_type": "markdown",
   "id": "ca1a21d3",
   "metadata": {},
   "source": [
    "##### -Show the result of the function for an event of type bachelor party."
   ]
  },
  {
   "cell_type": "code",
   "execution_count": 84,
   "id": "18ef3b15",
   "metadata": {},
   "outputs": [
    {
     "ename": "AssertionError",
     "evalue": "The valid event type can be wedding, private, corporate, please check it again.",
     "output_type": "error",
     "traceback": [
      "\u001b[1;31m---------------------------------------------------------------------------\u001b[0m",
      "\u001b[1;31mAssertionError\u001b[0m                            Traceback (most recent call last)",
      "\u001b[1;32m<ipython-input-84-9bacea6a0dbe>\u001b[0m in \u001b[0;36m<module>\u001b[1;34m\u001b[0m\n\u001b[1;32m----> 1\u001b[1;33m \u001b[0mevent_calculator\u001b[0m\u001b[1;33m(\u001b[0m\u001b[1;36m100\u001b[0m\u001b[1;33m,\u001b[0m\u001b[0mtype\u001b[0m\u001b[1;33m=\u001b[0m\u001b[1;34m'bachelor party'\u001b[0m\u001b[1;33m,\u001b[0m\u001b[0mcost\u001b[0m\u001b[1;33m=\u001b[0m\u001b[1;36m75\u001b[0m\u001b[1;33m,\u001b[0m\u001b[0mtax_rate\u001b[0m\u001b[1;33m=\u001b[0m\u001b[1;36m0.08\u001b[0m\u001b[1;33m)\u001b[0m\u001b[1;33m\u001b[0m\u001b[1;33m\u001b[0m\u001b[0m\n\u001b[0m",
      "\u001b[1;32m<ipython-input-83-b506a70e3856>\u001b[0m in \u001b[0;36mevent_calculator\u001b[1;34m(num_of_people, **kwargs)\u001b[0m\n\u001b[0;32m     14\u001b[0m     \u001b[1;32massert\u001b[0m \u001b[0mcost\u001b[0m\u001b[1;33m>=\u001b[0m\u001b[1;36m0\u001b[0m\u001b[1;33m,\u001b[0m\u001b[1;34m'Cost under 0 is not possible, please check it again.'\u001b[0m\u001b[1;33m\u001b[0m\u001b[1;33m\u001b[0m\u001b[0m\n\u001b[0;32m     15\u001b[0m     \u001b[1;32massert\u001b[0m \u001b[1;33m(\u001b[0m\u001b[0mtax_rate\u001b[0m\u001b[1;33m>=\u001b[0m\u001b[1;36m0\u001b[0m \u001b[1;32mand\u001b[0m \u001b[0mtax_rate\u001b[0m\u001b[1;33m<\u001b[0m\u001b[1;36m0.25\u001b[0m\u001b[1;33m)\u001b[0m\u001b[1;33m,\u001b[0m\u001b[1;34m'The valid tax rate is between 0 to 25%, please check it again.'\u001b[0m\u001b[1;33m\u001b[0m\u001b[1;33m\u001b[0m\u001b[0m\n\u001b[1;32m---> 16\u001b[1;33m     \u001b[1;32massert\u001b[0m \u001b[0mtype\u001b[0m \u001b[1;32min\u001b[0m \u001b[1;33m[\u001b[0m\u001b[1;34m'wedding'\u001b[0m\u001b[1;33m,\u001b[0m\u001b[1;34m'private'\u001b[0m\u001b[1;33m,\u001b[0m\u001b[1;34m'corporate'\u001b[0m\u001b[1;33m]\u001b[0m\u001b[1;33m,\u001b[0m\u001b[1;34m'The valid event type can be wedding, private, corporate, please check it again.'\u001b[0m\u001b[1;33m\u001b[0m\u001b[1;33m\u001b[0m\u001b[0m\n\u001b[0m\u001b[0;32m     17\u001b[0m \u001b[1;33m\u001b[0m\u001b[0m\n\u001b[0;32m     18\u001b[0m     print(f'Total Number of guests: {num_of_people}\\n',\n",
      "\u001b[1;31mAssertionError\u001b[0m: The valid event type can be wedding, private, corporate, please check it again."
     ]
    }
   ],
   "source": [
    "event_calculator(100,type='bachelor party',cost=75,tax_rate=0.08)"
   ]
  },
  {
   "cell_type": "markdown",
   "id": "3a68cf06",
   "metadata": {},
   "source": [
    "##### -Show the result of the function of the function for an event with cost = -10."
   ]
  },
  {
   "cell_type": "code",
   "execution_count": 85,
   "id": "4c5c3823",
   "metadata": {},
   "outputs": [
    {
     "ename": "AssertionError",
     "evalue": "Cost under 0 is not possible, please check it again.",
     "output_type": "error",
     "traceback": [
      "\u001b[1;31m---------------------------------------------------------------------------\u001b[0m",
      "\u001b[1;31mAssertionError\u001b[0m                            Traceback (most recent call last)",
      "\u001b[1;32m<ipython-input-85-3c5ddec8ea2a>\u001b[0m in \u001b[0;36m<module>\u001b[1;34m\u001b[0m\n\u001b[1;32m----> 1\u001b[1;33m \u001b[0mevent_calculator\u001b[0m\u001b[1;33m(\u001b[0m\u001b[1;36m100\u001b[0m\u001b[1;33m,\u001b[0m\u001b[0mtype\u001b[0m\u001b[1;33m=\u001b[0m\u001b[1;34m'private'\u001b[0m\u001b[1;33m,\u001b[0m\u001b[0mcost\u001b[0m\u001b[1;33m=\u001b[0m\u001b[1;33m-\u001b[0m\u001b[1;36m10\u001b[0m\u001b[1;33m,\u001b[0m\u001b[0mtax_rate\u001b[0m\u001b[1;33m=\u001b[0m\u001b[1;36m0.08\u001b[0m\u001b[1;33m)\u001b[0m\u001b[1;33m\u001b[0m\u001b[1;33m\u001b[0m\u001b[0m\n\u001b[0m",
      "\u001b[1;32m<ipython-input-83-b506a70e3856>\u001b[0m in \u001b[0;36mevent_calculator\u001b[1;34m(num_of_people, **kwargs)\u001b[0m\n\u001b[0;32m     12\u001b[0m \u001b[1;33m\u001b[0m\u001b[0m\n\u001b[0;32m     13\u001b[0m     \u001b[1;31m#add assertions of warning and provide the description of what went wrong\u001b[0m\u001b[1;33m\u001b[0m\u001b[1;33m\u001b[0m\u001b[1;33m\u001b[0m\u001b[0m\n\u001b[1;32m---> 14\u001b[1;33m     \u001b[1;32massert\u001b[0m \u001b[0mcost\u001b[0m\u001b[1;33m>=\u001b[0m\u001b[1;36m0\u001b[0m\u001b[1;33m,\u001b[0m\u001b[1;34m'Cost under 0 is not possible, please check it again.'\u001b[0m\u001b[1;33m\u001b[0m\u001b[1;33m\u001b[0m\u001b[0m\n\u001b[0m\u001b[0;32m     15\u001b[0m     \u001b[1;32massert\u001b[0m \u001b[1;33m(\u001b[0m\u001b[0mtax_rate\u001b[0m\u001b[1;33m>=\u001b[0m\u001b[1;36m0\u001b[0m \u001b[1;32mand\u001b[0m \u001b[0mtax_rate\u001b[0m\u001b[1;33m<\u001b[0m\u001b[1;36m0.25\u001b[0m\u001b[1;33m)\u001b[0m\u001b[1;33m,\u001b[0m\u001b[1;34m'The valid tax rate is between 0 to 25%, please check it again.'\u001b[0m\u001b[1;33m\u001b[0m\u001b[1;33m\u001b[0m\u001b[0m\n\u001b[0;32m     16\u001b[0m     \u001b[1;32massert\u001b[0m \u001b[0mtype\u001b[0m \u001b[1;32min\u001b[0m \u001b[1;33m[\u001b[0m\u001b[1;34m'wedding'\u001b[0m\u001b[1;33m,\u001b[0m\u001b[1;34m'private'\u001b[0m\u001b[1;33m,\u001b[0m\u001b[1;34m'corporate'\u001b[0m\u001b[1;33m]\u001b[0m\u001b[1;33m,\u001b[0m\u001b[1;34m'The valid event type can be wedding, private, corporate, please check it again.'\u001b[0m\u001b[1;33m\u001b[0m\u001b[1;33m\u001b[0m\u001b[0m\n",
      "\u001b[1;31mAssertionError\u001b[0m: Cost under 0 is not possible, please check it again."
     ]
    }
   ],
   "source": [
    "event_calculator(100,type='private',cost=-10,tax_rate=0.08)"
   ]
  },
  {
   "cell_type": "markdown",
   "id": "2a1a42b3",
   "metadata": {},
   "source": [
    "#### b) Use try-except setup to catch all the errors."
   ]
  },
  {
   "cell_type": "code",
   "execution_count": 86,
   "id": "f0cc46e9",
   "metadata": {},
   "outputs": [],
   "source": [
    "def cost_of_event(num_of_people,type='private',cost=50):\n",
    "    \n",
    "    # avoid the error for string input of cost\n",
    "    if isinstance(cost,str):\n",
    "        cost=float(cost)\n",
    "    if isinstance(num_of_people,str):\n",
    "        num_of_people=float(num_of_people)\n",
    "        \n",
    "    try:\n",
    "        if cost<0 or type not in ['wedding', 'private', 'corporate']:\n",
    "            raise ValueError\n",
    "    except:\n",
    "        return None\n",
    "    \n",
    "    if type=='wedding':\n",
    "        ans=float(num_of_people*cost*1.5)\n",
    "    else:\n",
    "        ans=float(num_of_people*cost) \n",
    "        return ans"
   ]
  },
  {
   "cell_type": "code",
   "execution_count": 87,
   "id": "d914412b",
   "metadata": {},
   "outputs": [],
   "source": [
    "def event_calculator(num_of_people,**kwargs):\n",
    "    try:\n",
    "        \n",
    "        #get the arguments from previous function\n",
    "        type=kwargs.get('type')\n",
    "        cost=kwargs.get('cost')\n",
    "        tax_rate=kwargs.get('tax_rate')\n",
    "    \n",
    "        #rename for briefness\n",
    "        cal_cost=cost_of_event(num_of_people,type,cost)\n",
    "        tax=sales_tax(cal_cost,type,tax_rate)\n",
    "        total_cost=cal_cost+tax\n",
    "    \n",
    "        if (cost>0 and tax_rate >0 and tax_rate <= 0.25 and type in types): \n",
    "            print(f'Total Number of guests: {num_of_people}\\n',\n",
    "                  f'Type of event: {type}\\n',\n",
    "                  f'Cost per person: {cost:.2f}\\n',\n",
    "                  f'---------------------------\\n',\n",
    "                  f'Cost of event: {cal_cost:.2f}\\n',\n",
    "                  f'Sales Tax: {tax:.2f}\\n',\n",
    "                  f'---------------------------\\n',\n",
    "                  f'Total Cost: {total_cost:.2f}\\n')\n",
    "\n",
    "        # raise a value error if the input doesn't meet the requirement\n",
    "        else:\n",
    "            raise ValueError\n",
    "\n",
    "    # give users the option to check the input values    \n",
    "    except:\n",
    "            print(\"Please check input values\")"
   ]
  },
  {
   "cell_type": "markdown",
   "id": "4c94a754",
   "metadata": {},
   "source": [
    "##### -Print the result of the function for an event with a negative sales tax rate as the input."
   ]
  },
  {
   "cell_type": "code",
   "execution_count": 88,
   "id": "0b71bf57",
   "metadata": {},
   "outputs": [
    {
     "name": "stdout",
     "output_type": "stream",
     "text": [
      "Please check input values\n"
     ]
    }
   ],
   "source": [
    "event_calculator(100, type = 'private',tax_rate = -2)"
   ]
  }
 ],
 "metadata": {
  "kernelspec": {
   "display_name": "Python 3",
   "language": "python",
   "name": "python3"
  },
  "language_info": {
   "codemirror_mode": {
    "name": "ipython",
    "version": 3
   },
   "file_extension": ".py",
   "mimetype": "text/x-python",
   "name": "python",
   "nbconvert_exporter": "python",
   "pygments_lexer": "ipython3",
   "version": "3.8.8"
  }
 },
 "nbformat": 4,
 "nbformat_minor": 5
}
