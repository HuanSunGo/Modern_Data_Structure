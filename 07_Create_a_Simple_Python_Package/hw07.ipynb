{
 "cells": [
  {
   "cell_type": "markdown",
   "id": "aed5eab1",
   "metadata": {},
   "source": [
    "## HW07 Create your own package"
   ]
  },
  {
   "cell_type": "markdown",
   "id": "4a1ee2f5",
   "metadata": {},
   "source": [
    "### Link to my TestPyPi package\n",
    "My TestPyPi package: https://test.pypi.org/project/cipher-hs3240/"
   ]
  },
  {
   "cell_type": "markdown",
   "id": "2ec753de",
   "metadata": {},
   "source": [
    "### Link to the repo of your package\n",
    "The repo of your package: https://github.com/QMSS-G5072-2021/cipher_huan_sun"
   ]
  },
  {
   "cell_type": "markdown",
   "id": "31e5d4a2",
   "metadata": {},
   "source": [
    "### Install package from TestPyPi"
   ]
  },
  {
   "cell_type": "code",
   "execution_count": 1,
   "id": "4c27f4ab",
   "metadata": {},
   "outputs": [
    {
     "name": "stdout",
     "output_type": "stream",
     "text": [
      "Looking in indexes: https://test.pypi.org/pypi/, https://pypi.org/simple\r\n",
      "Requirement already satisfied: cipher_hs3240 in /Users/sunhuan/Library/Caches/pypoetry/virtualenvs/huan-sun-R7f6Z2Js-py3.9/lib/python3.9/site-packages (0.1.0)\r\n"
     ]
    }
   ],
   "source": [
    "! pip install -i https://test.pypi.org/pypi/ --extra-index-url https://pypi.org/simple cipher_hs3240"
   ]
  },
  {
   "cell_type": "code",
   "execution_count": 2,
   "id": "9ec3c934",
   "metadata": {},
   "outputs": [],
   "source": [
    "import sys\n",
    "sys.path.append('/Users/sunhuan/Library/Caches/pypoetry/virtualenvs/huan-sun-R7f6Z2Js-py3.9/lib/python3.9/site-packages')"
   ]
  },
  {
   "cell_type": "code",
   "execution_count": 3,
   "id": "a472f534",
   "metadata": {},
   "outputs": [
    {
     "name": "stdout",
     "output_type": "stream",
     "text": [
      "/bin/bash: /Users/sunhuan/Library/Caches/pypoetry/virtualenvs/huan-sun-R7f6Z2Js-py3.9/lib/python3.9/site-packages: is a directory\r\n"
     ]
    }
   ],
   "source": [
    "!/Users/sunhuan/Library/Caches/pypoetry/virtualenvs/huan-sun-R7f6Z2Js-py3.9/lib/python3.9/site-packages -m pip install -i https://test.pypi.org/pypi/ --extra-index-url https://pypi.org/simple cipher_hs3240"
   ]
  },
  {
   "cell_type": "markdown",
   "id": "c39f270f",
   "metadata": {},
   "source": [
    "### Import my package"
   ]
  },
  {
   "cell_type": "code",
   "execution_count": 4,
   "id": "3e9bc6f7",
   "metadata": {},
   "outputs": [],
   "source": [
    "from cipher_hs3240 import cipher_hs3240"
   ]
  },
  {
   "cell_type": "markdown",
   "id": "bdbe24ca",
   "metadata": {},
   "source": [
    "### Run the cipher function for an example"
   ]
  },
  {
   "cell_type": "code",
   "execution_count": 5,
   "id": "16aefaa5",
   "metadata": {},
   "outputs": [
    {
     "data": {
      "text/plain": [
       "'Difg'"
      ]
     },
     "execution_count": 5,
     "metadata": {},
     "output_type": "execute_result"
    }
   ],
   "source": [
    "cipher_hs3240.cipher('Chef', 1, True)"
   ]
  },
  {
   "cell_type": "markdown",
   "id": "c2e95576",
   "metadata": {},
   "source": [
    "### show the output of help(<yourpackage>) and help(<yourpackage>.cipher)"
   ]
  },
  {
   "cell_type": "code",
   "execution_count": 6,
   "id": "603c8fb1",
   "metadata": {},
   "outputs": [
    {
     "name": "stdout",
     "output_type": "stream",
     "text": [
      "Help on module cipher_hs3240.cipher_hs3240 in cipher_hs3240:\n",
      "\n",
      "NAME\n",
      "    cipher_hs3240.cipher_hs3240\n",
      "\n",
      "FUNCTIONS\n",
      "    cipher(text, shift, encrypt=True)\n",
      "        The Caesar cipher is one of the simplest and most widely known encryption techniques.\n",
      "        This cipher takes string data and decode it by shifting each letter by the number of positions specified in the alphabet. \n",
      "        \n",
      "        Args:\n",
      "            text: Input string data to be ciphered.\n",
      "            shift: Number of digits in the alphabet to shift in the right direction.\n",
      "            encrypt: True/False indicator defining whether or not the string is to be encrypted by this function.\n",
      "            \n",
      "        Returns:\n",
      "          Ciphered text with input string data 'text' shifted the number of units defined by 'shift' input. \n",
      "          \n",
      "        Example of Usage:\n",
      "            >>> print([cipher('Chef',3)])\n",
      "            'Fkhi'\n",
      "\n",
      "FILE\n",
      "    /Users/sunhuan/Library/Caches/pypoetry/virtualenvs/huan-sun-R7f6Z2Js-py3.9/lib/python3.9/site-packages/cipher_hs3240/cipher_hs3240.py\n",
      "\n",
      "\n"
     ]
    }
   ],
   "source": [
    "help(cipher_hs3240)"
   ]
  },
  {
   "cell_type": "code",
   "execution_count": 7,
   "id": "23dc753c",
   "metadata": {},
   "outputs": [
    {
     "name": "stdout",
     "output_type": "stream",
     "text": [
      "Help on function cipher in module cipher_hs3240.cipher_hs3240:\n",
      "\n",
      "cipher(text, shift, encrypt=True)\n",
      "    The Caesar cipher is one of the simplest and most widely known encryption techniques.\n",
      "    This cipher takes string data and decode it by shifting each letter by the number of positions specified in the alphabet. \n",
      "    \n",
      "    Args:\n",
      "        text: Input string data to be ciphered.\n",
      "        shift: Number of digits in the alphabet to shift in the right direction.\n",
      "        encrypt: True/False indicator defining whether or not the string is to be encrypted by this function.\n",
      "        \n",
      "    Returns:\n",
      "      Ciphered text with input string data 'text' shifted the number of units defined by 'shift' input. \n",
      "      \n",
      "    Example of Usage:\n",
      "        >>> print([cipher('Chef',3)])\n",
      "        'Fkhi'\n",
      "\n"
     ]
    }
   ],
   "source": [
    "help(cipher_hs3240.cipher)"
   ]
  }
 ],
 "metadata": {
  "kernelspec": {
   "display_name": "Python 3 (ipykernel)",
   "language": "python",
   "name": "python3"
  },
  "language_info": {
   "codemirror_mode": {
    "name": "ipython",
    "version": 3
   },
   "file_extension": ".py",
   "mimetype": "text/x-python",
   "name": "python",
   "nbconvert_exporter": "python",
   "pygments_lexer": "ipython3",
   "version": "3.8.8"
  }
 },
 "nbformat": 4,
 "nbformat_minor": 5
}
