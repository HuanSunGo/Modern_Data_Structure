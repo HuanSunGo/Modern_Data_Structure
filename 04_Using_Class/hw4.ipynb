{
 "cells": [
  {
   "cell_type": "markdown",
   "metadata": {},
   "source": [
    "## HW4: Functions II \n",
    "### 1. Recipe class \n",
    "**a) Create `Recipe` class.**<br>\n",
    "Initialize it with a name, ingredients, meal, and time.\n",
    "\n",
    "**b) Add method and recipes.** <br>\n",
    "Use the method to print the name of the recipe, the time it takes to prepare, and the type of meal.<br>\n",
    "Initialize five recipes of your choice, two for dinner and three for dessert, print the initialized objects.\n",
    "\n",
    "**c) Total weight.**<br>\n",
    "Add a method that provides the total weight of all ingredients combined. Call that method for one specific recipe."
   ]
  },
  {
   "cell_type": "code",
   "execution_count": 1,
   "metadata": {},
   "outputs": [],
   "source": [
    "class Recipe():\n",
    "    \n",
    "    def __init__(self, name=\"\", ingredients=[], meal=\"\", time=\"\"):\n",
    "        self.name = name\n",
    "        self.ingredients = ingredients\n",
    "        self.meal = meal\n",
    "        self.time = time\n",
    "\n",
    "    def __str__(self):\n",
    "        return self.name + \" is for \" + self.meal + \", and takes \" + str(self.time) + \" to prepare.\\n\"\n",
    "\n",
    "    def total_weight(self):\n",
    "        return sum(self.ingredients.values())\n"
   ]
  },
  {
   "cell_type": "code",
   "execution_count": 2,
   "metadata": {},
   "outputs": [],
   "source": [
    "# Initialize five recipes and print\n",
    "\n",
    "# dinner 1：beef_potato_stew\n",
    "r1=Recipe('Beef Potato Stew',{'beef':50,'potato':50,'onion':30,'garlic':10},'Dinner','35min')\n",
    "\n",
    "# dinner 2:avocado_salmon_pasta\n",
    "r2=Recipe('Avocado Salmon Pasta',{'salmon':65,'avocado':30,'pasta':40,'pepper':3.5},'Dinner','20min')\n",
    "\n",
    "# dessert 1:osmanthus_cake_with_glutinous_rice\n",
    "r3=Recipe('Osmanthus Cake with Glutinous Rice',{'osmanthus':200,'flour':30,'glutinous rice':50,'sugar':40},'Dessert','60min')\n",
    "\n",
    "# dessert 2:mango_sago\n",
    "r4=Recipe('Banana Sago',{'banana':40,'sago':10,'coconut milk':100},'Dessert','15min')\n",
    "\n",
    "# dessert 3:chocolate_brownie\n",
    "r5=Recipe('Chocolate Brownie',{'banana':20,'flour':50,'chocolate':15,'oatmeal':10,'sugar':5},'Dessert','20min')"
   ]
  },
  {
   "cell_type": "code",
   "execution_count": 3,
   "metadata": {},
   "outputs": [
    {
     "name": "stdout",
     "output_type": "stream",
     "text": [
      "Beef Potato Stew is for Dinner, and takes 35min to prepare.\n",
      " Avocado Salmon Pasta is for Dinner, and takes 20min to prepare.\n",
      " Osmanthus Cake with Glutinous Rice is for Dessert, and takes 60min to prepare.\n",
      " Banana Sago is for Dessert, and takes 15min to prepare.\n",
      " Chocolate Brownie is for Dessert, and takes 20min to prepare.\n",
      "\n"
     ]
    }
   ],
   "source": [
    "print(r1,r2,r3,r4,r5)"
   ]
  },
  {
   "cell_type": "code",
   "execution_count": 4,
   "metadata": {},
   "outputs": [
    {
     "data": {
      "text/plain": [
       "140"
      ]
     },
     "execution_count": 4,
     "metadata": {},
     "output_type": "execute_result"
    }
   ],
   "source": [
    "#Call the weight method for one specific recipe.\n",
    "r1.total_weight()"
   ]
  },
  {
   "cell_type": "markdown",
   "metadata": {},
   "source": [
    "### 2. Organizing recipes in a Cookbook \n",
    "**a) Create `Cookbook` class.**<br>\n",
    "Now create a Cookbook class that will contain a list of Recipe objects.\n",
    "\n",
    "**b) Meal type method.**<br>\n",
    "Create a `get_meal_type()` method which has a `meal_type` parameter and returns a list of all recipes fitting the specified meal type.\n",
    "\n",
    "**c) Make a cookbook**<br>\n",
    "Add the five recipes from above to the Cookbook. Using the method fom (b) print the names of all dessert recipes.\n",
    "\n",
    "**d) Ingredient at home.**<br>\n",
    "Add a method that takes in a list (or set) of `available_ingredients` and a boolean `match_all`. The boolean indicates whether all available ingredients (`match_all = True`) or any ingredient (`match_all = False`) need to be contained in the result list. Call the method twice to show how the boolean `match_all` affects your results."
   ]
  },
  {
   "cell_type": "code",
   "execution_count": 20,
   "metadata": {},
   "outputs": [],
   "source": [
    "class Cookbook:\n",
    "    def __init__(self):\n",
    "        self.list = []\n",
    "\n",
    "    def add(self, Recipe):\n",
    "        self.list.append(Recipe)\n",
    "\n",
    "    def __str__(self):\n",
    "        temp = \"\"\n",
    "        for Recipe in self.list:\n",
    "            temp = temp + Recipe.name + \"\\n\"\n",
    "        return  temp\n",
    "\n",
    "    def get_meal_type(self, meal_type):\n",
    "        return [Recipe.name for Recipe in self.list if Recipe.meal == meal_type]\n",
    "\n",
    "    def check(self, available_ingredients, match_all):\n",
    "        ans=[]\n",
    "        self.available_ingredients=available_ingredients\n",
    "        \n",
    "        for Recipe in self.list:\n",
    "            if match_all==True:\n",
    "                # return the recipe which available_ingredients are the exact ingredients that the recipe needs.\n",
    "                if all(i in self.available_ingredients for i in list(Recipe.ingredients.keys())):\n",
    "                    ans.append(Recipe.name)\n",
    "            else: \n",
    "                # return the recipe which available_ingredients are one of the ingredients that the recipe needs.\n",
    "                if any(i in self.available_ingredients for i in list(Recipe.ingredients.keys())):\n",
    "                    ans.append(Recipe.name)\n",
    "        return ans\n",
    "                    "
   ]
  },
  {
   "cell_type": "code",
   "execution_count": 21,
   "metadata": {},
   "outputs": [],
   "source": [
    "# Create a cookbook and add five recipes to it.\n",
    "\n",
    "cb=Cookbook()\n",
    "for Recipe in [r1,r2,r3,r4,r5]:\n",
    "    cb.add(Recipe)"
   ]
  },
  {
   "cell_type": "code",
   "execution_count": 22,
   "metadata": {},
   "outputs": [
    {
     "name": "stdout",
     "output_type": "stream",
     "text": [
      "Beef Potato Stew\n",
      "Avocado Salmon Pasta\n",
      "Osmanthus Cake with Glutinous Rice\n",
      "Banana Sago\n",
      "Chocolate Brownie\n",
      "\n"
     ]
    }
   ],
   "source": [
    "print(cb)"
   ]
  },
  {
   "cell_type": "code",
   "execution_count": 23,
   "metadata": {},
   "outputs": [
    {
     "data": {
      "text/plain": [
       "['Osmanthus Cake with Glutinous Rice', 'Banana Sago', 'Chocolate Brownie']"
      ]
     },
     "execution_count": 23,
     "metadata": {},
     "output_type": "execute_result"
    }
   ],
   "source": [
    "# Print the names of all dessert recipes.\n",
    "cb.get_meal_type('Dessert')"
   ]
  },
  {
   "cell_type": "code",
   "execution_count": 26,
   "metadata": {},
   "outputs": [
    {
     "data": {
      "text/plain": [
       "['Banana Sago']"
      ]
     },
     "execution_count": 26,
     "metadata": {},
     "output_type": "execute_result"
    }
   ],
   "source": [
    "# Call the method twice to show how the boolean match_all affects your results.\n",
    "cb.check(['banana','sago','coconut milk'],True)"
   ]
  },
  {
   "cell_type": "code",
   "execution_count": 27,
   "metadata": {},
   "outputs": [
    {
     "data": {
      "text/plain": [
       "['Banana Sago', 'Chocolate Brownie']"
      ]
     },
     "execution_count": 27,
     "metadata": {},
     "output_type": "execute_result"
    }
   ],
   "source": [
    "# when match_all is False, it should return Banana Sago and Chocolate Brownie, because they both have \"banana\" as ingredients.\n",
    "cb.check(['banana','sago','coconut milk'],False)"
   ]
  }
 ],
 "metadata": {
  "kernelspec": {
   "display_name": "Python 3",
   "language": "python",
   "name": "python3"
  },
  "language_info": {
   "codemirror_mode": {
    "name": "ipython",
    "version": 3
   },
   "file_extension": ".py",
   "mimetype": "text/x-python",
   "name": "python",
   "nbconvert_exporter": "python",
   "pygments_lexer": "ipython3",
   "version": "3.7.2"
  }
 },
 "nbformat": 4,
 "nbformat_minor": 5
}
